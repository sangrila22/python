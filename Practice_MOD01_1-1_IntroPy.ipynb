# [ ] print 'Hello!' and remember to save notebook!
print('Hello!') 
print("remember to save notebook!")
print('watch for the cat')
print('Irma_2018_10_25')
# [ ] print your name

# [ ] print "is using Python"

print('Irma')
print('is using Python!')
# [ ] create a variable your_name and assign it a sting containing your name

#[ ] print your_name
your_name = "Irma"
print(your_name)
# [ ] create variables and assign values for: favorite_song, shoe_size, lucky_number


# [ ] print the value of each variable favorite_song, shoe_size, and lucky_number

favorite_song = "lay your hands on me"
shoe_size = 2
lucky_number = 1
print(favorite_song)
print(shoe_size)
print(lucky_number)
# [ ] print favorite_song with description


# [ ] print shoe_size with description


# [ ] print lucky_number with description

print("my favorite song is" + " lay your hands on me")
print("my shoe size is" + " 2")
print("my lucky number is" + " 1")



# assign favorite_lucky_shoe using
favorite_lucky_shoe = " For singing"
favorite_song = " lay your hands on me"
shoe_size = " 2 times,"
lucky_number = "you will be fined $1"
print(favorite_lucky_shoe + favorite_song + shoe_size + lucky_number)

# [ ] print a diagonal using "*"
print("*")
print(" *")
print("  *")
print("   *")
print("    *")


# [ ] rectangle using "*"
print("*******")
print("*     *")
print("*     *")
print("*******")

# [ ] smiley using "*"
print("*******************")
print("**               **")
print("*    **     **    *")
print("*    **     **    *")
print("*                 *")
print("*                 *")
print("*******************")
print("****           ****")
print("*****        ******")
print("*******************")




# [ ] display the type of 'your name' (use single quotes)

type('Irma')

# [ ] display the type of "save your notebook!" (use double quotes)

type("save your notebook!")

# [ ] display the type of "25" (use quotes)
type("25")

# [ ] display the type of "save your notebook " + 'your name'

type("save your notebook " + "Irma")

# [ ] display the type of 25 + 10 

type(25 + 10)


# [ ] display the type of 25 (no quotes)
type(25)

# [ ] display the type of 1.55

type(1.55)

# [ ] display the type of 1.55 + 25
type(1.55 + 25)

# assignments ***RUN THIS CELL*** before starting the section

student_name = "Gus"
student_age = 16
student_grade = 3.5
student_id = "ABC-000-000"

# [ ] display the current type of the variable student_name
student_name = "Gus"
type("student_name")

# [ ] display the type of student_age
student_age = 16
type(student_age)

# [ ] display the type of student_grade
student_grade = 3.5
type(student_grade)
# [ ] display the type of student_age + student_grade
type(16 + 3.5)
type(student_age + student_grade)


# [ ] display the current type of student_id
type("ABC-000-000")


# assign new value to student_id 
student_id = "2018"
type(student_id)

# [ ] display the current of student_id


# [ ] create integer variables (x, y, z) and assign them 1-3 digit integers (no decimals - no quotes)
x = 1
y = 2
z = 3

# insert a code cell below
# create an integer variable named xyz_sum equal to the sum of x, y, and z
# print the value of xyz_sum


xyz_sum = 6
print(xyz_sum)
# [ ] fix the error 

print("Hello World!")    


# [ ] fix the error 
print("strings have quotes and" + " variables have names")


# [ ] fix the error 
print( "I have $" + "5")

# [ ] fix the error 
print("always save the notebook")
      

# [ ] Display first name or initials as ASCII Art
first_name = "ASCII Art"
print(first_name)

# [ ] Challenge: insert an additional code cell to make an ASCII picture
print("      *       * * *  *****   * *")
print("     * *     *      *        * *")
print("    *****     * *   *        * *")
print("   *     *        * *        * *")
print("  *       *  * * *   *****   * *")